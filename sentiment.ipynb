{
 "cells": [
  {
   "cell_type": "code",
   "execution_count": 181,
   "id": "2d6e72bb",
   "metadata": {},
   "outputs": [],
   "source": [
    "import pandas as pd \n",
    "from nltk.corpus import stopwords\n",
    "from transformers import AutoModelForSequenceClassification, AutoTokenizer\n",
    "import torch\n",
    "import numpy as np\n",
    "from numpy import argmax\n",
    "from torch.nn.functional import softmax"
   ]
  },
  {
   "cell_type": "code",
   "execution_count": 120,
   "id": "65473af7",
   "metadata": {},
   "outputs": [],
   "source": [
    "model_name = \"ProsusAI/finbert\"\n",
    "model = AutoModelForSequenceClassification.from_pretrained(model_name)\n",
    "tokenizer = AutoTokenizer.from_pretrained(model_name)"
   ]
  },
  {
   "cell_type": "code",
   "execution_count": null,
   "id": "a5e4a61d",
   "metadata": {},
   "outputs": [],
   "source": [
    "df = pd.read_csv('stockNews.csv')\n",
    "for col in df.columns:\n",
    "    col = col.strip\n",
    "df.drop('Unnamed: 0', axis=1, inplace=True)\n",
    "df.dropna(inplace=True)\n",
    "df.reset_index(inplace=True, drop=True)\n",
    "df"
   ]
  },
  {
   "cell_type": "code",
   "execution_count": 185,
   "id": "e805535e",
   "metadata": {},
   "outputs": [],
   "source": [
    "def get_sentiment(news):\n",
    "    inputs = tokenizer(news, return_tensors=\"pt\", padding=True, truncation=True, max_length=512)\n",
    "    \n",
    "    with torch.no_grad():  \n",
    "        predictions = model(**inputs)\n",
    "    \n",
    "    prob = softmax(predictions.logits, dim=-1)\n",
    "    sentiment_list = ['positive', 'neutral', 'negative']\n",
    "    sentiment_score = max(prob[0].tolist())\n",
    "    sentiment = sentiment_list[prob[0].tolist().index(sentiment_score)]\n",
    "    \n",
    "    return sentiment, sentiment_score\n"
   ]
  },
  {
   "cell_type": "code",
   "execution_count": 191,
   "id": "730acaaa",
   "metadata": {},
   "outputs": [],
   "source": [
    "def sliding_window(text, tokenizer, max_length=512, overlap=50):\n",
    "\n",
    "    tokenized_text = tokenizer.encode_plus(text, return_tensors='pt', add_special_tokens=True)\n",
    "    input_ids = tokenized_text['input_ids'].squeeze().numpy().tolist()\n",
    "    \n",
    "    total_length = len(input_ids)\n",
    "    step_size = max_length - overlap\n",
    "    chunks = []\n",
    "    \n",
    "    for start in range(0, total_length, step_size):\n",
    "        end = start + max_length\n",
    "        chunk = input_ids[start:end]\n",
    "        \n",
    "        chunk = [tokenizer.cls_token_id] + chunk + [tokenizer.sep_token_id]\n",
    "        chunks.append(chunk)\n",
    "    \n",
    "    return chunks\n"
   ]
  },
  {
   "cell_type": "code",
   "execution_count": 195,
   "id": "0e7bacc6",
   "metadata": {},
   "outputs": [],
   "source": [
    "def process_chunks(chunks, tokenizer, model):\n",
    "    model.eval()  \n",
    "    sentiments = []\n",
    "    scores = []\n",
    "\n",
    "    with torch.no_grad():\n",
    "        for chunk in chunks:\n",
    "            inputs = torch.tensor(chunk).unsqueeze(0)  \n",
    "            \n",
    "\n",
    "            inputs = torch.nn.functional.pad(inputs, (0, 512 - inputs.shape[1]), value=tokenizer.pad_token_id)\n",
    "            \n",
    "            outputs = model(inputs)\n",
    "            logits = outputs.logits\n",
    "            sentiment = torch.argmax(logits, dim=1).numpy()[0]  \n",
    "            score = torch.softmax(logits, dim=1).max().item()  \n",
    "\n",
    "            sentiments.append(sentiment)\n",
    "            scores.append(score)\n",
    "\n",
    "    return sentiments, scores\n"
   ]
  },
  {
   "cell_type": "code",
   "execution_count": 197,
   "id": "e130527c",
   "metadata": {},
   "outputs": [],
   "source": [
    "def aggregate_results(sentiments, scores):\n",
    "\n",
    "    average_score_per_sentiment = {}\n",
    "    for sentiment, score in zip(sentiments, scores):\n",
    "        if sentiment not in average_score_per_sentiment:\n",
    "            average_score_per_sentiment[sentiment] = []\n",
    "        average_score_per_sentiment[sentiment].append(score)\n",
    "    \n",
    "    for sentiment in average_score_per_sentiment:\n",
    "        average_score_per_sentiment[sentiment] = sum(average_score_per_sentiment[sentiment]) / len(average_score_per_sentiment[sentiment])\n",
    "    \n",
    "    dominant_sentiment = max(average_score_per_sentiment, key=average_score_per_sentiment.get)\n",
    "    return dominant_sentiment, average_score_per_sentiment[dominant_sentiment]\n"
   ]
  },
  {
   "cell_type": "code",
   "execution_count": 253,
   "id": "6e45c9cf",
   "metadata": {},
   "outputs": [
    {
     "data": {
      "text/plain": [
       "'(0:30) - Learning from Warren Buffett’s Mistakes (11:10) - Stocks To Keep On Your Watchlist (26:00) - Episode Roundup: IBM, AMZN, CVX, BAC, AAPL Podcast@Zacks.com  Welcome to Episode #363 of the Value Investor Podcast. Everyone makes mistakes in investing, even the world’s greatest living investor, Warren Buffett. He’s been investing for over 80 years so there are bound to be a few blow ups along the way. What can we learn from his biggest mistakes? 1.\\xa0\\xa0\\xa0\\xa0\\xa0\\xa0 Buying in a difficult industry where there are few moats 2.\\xa0\\xa0\\xa0\\xa0\\xa0\\xa0 Holding the company too long, even when the business has changed or its not performing 3.\\xa0\\xa0\\xa0\\xa0\\xa0\\xa0 Buying an expensive stock Berkshire Hathaway first bought shares of IBM in 2011 around $170 a share. By 2018, Berkshire had sold out of the investment in the range of $140 to $150. Berkshire took a loss. Buffett later said IBM wasn’t performing as he thought it would and that’s why he got out. But it took him 8 years to finally exit the position completely. During that period, IBM’s earnings fell year-over-year in 2014, 2015 and 2016 with little rebound in 2017 and 2018. Should Buffett had sold earlier when falling earnings became more than just a 1-off at IBM? Berkshire Hathaway bought Bank of America in the third quarter of 2017. It still owns a big position. Earnings at Bank of America popped during the pandemic, rising to $3.56 in 2021 from $1.87 in 2020. But earnings are expected to fall this year by 9%. Bank of America is still cheap with a P/B ratio of just 1.1. Is Buffett making a mistake in still holding Bank of America? Berkshire Hathaway first bought Amazon shares in the first quarter of 2019. It’s a small position in the equity portfolio. At the time, many were confused by the purchase because Amazon sported a sky-high P/E ratio and didn’t seem to be a traditional “value” stock. Amazon is cheaper now, with a forward P/E of 44. Earnings plunged in 2022, but they have been rebounding. In 2023, Amazon made $2.80 per share and the Zacks Consensus is looking for $4.08 in 2024. Shares are up 105.2% since the last day of the first quarter of 2019 through Apr 2, 2024. That’s beating the S&P 500, up 84.4% during the same time. Was Amazon too expensive when Buffett bought it in 2019? Berkshire Hathaway first bought shares of Chevron in the fourth quarter of 2020 and then bought a bigger position in 2021. At the time, Chevron was dirt cheap on a fundamental basis. It remains cheap, with a forward P/E of 12. Chevron shares are up 90.3% since the last day of the fourth quarter of 2020. That easily beats the return of the S&P 500 during that same time of 39.1%. Does it pay to buy the dirt-cheap stocks like Chevron over the long term? Berkshire Hathaway first bought shares of Apple in the first quarter of 2016. It has since become a cornerstone of the Berkshire business and is the largest position in the equity portfolio. Shares are no longer cheap, however. When Berkshire originally bought, Apple was trading around 10x forward earnings. It is currently trading at 25.8x. But earnings growth has stalled out the last few years. Apple made $6.11 in fiscal 2022 and $6.12 in fiscal 2023. It’s expected to see some growth in fiscal 2024 as the Zacks Consensus is looking for $6.55. Is Apple flashing the warnings signs that maybe it’s business is changing? Tune into this week’s podcast to find out.  '"
      ]
     },
     "execution_count": 253,
     "metadata": {},
     "output_type": "execute_result"
    }
   ],
   "source": [
    "df['articleInfo'][1]"
   ]
  },
  {
   "cell_type": "code",
   "execution_count": 259,
   "id": "a29f1691",
   "metadata": {},
   "outputs": [],
   "source": [
    "def full_window(text, tokenizer, model):\n",
    "    chunks = sliding_window(text, tokenizer)\n",
    "    sentiments, scores = process_chunks(chunks, tokenizer, model)\n",
    "    return aggregate_results(sentiments, scores)"
   ]
  },
  {
   "cell_type": "code",
   "execution_count": 261,
   "id": "b2857062",
   "metadata": {},
   "outputs": [],
   "source": [
    "df['sentiment'] = df['articleInfo'].apply(lambda news: full_window(news, tokenizer, model)[0])\n",
    "df['sentiment probability']  = df['articleInfo'].apply(lambda news: full_window(news, tokenizer, model)[1])"
   ]
  },
  {
   "cell_type": "code",
   "execution_count": 255,
   "id": "06b60f9c",
   "metadata": {},
   "outputs": [
    {
     "data": {
      "text/plain": [
       "negative    125\n",
       "positive     76\n",
       "neutral      66\n",
       "Name: sentiment, dtype: int64"
      ]
     },
     "execution_count": 255,
     "metadata": {},
     "output_type": "execute_result"
    }
   ],
   "source": [
    "df['sentiment'].value_counts()"
   ]
  },
  {
   "cell_type": "code",
   "execution_count": 264,
   "id": "53fec943",
   "metadata": {},
   "outputs": [
    {
     "data": {
      "text/plain": [
       "(2, 0.7786687016487122)"
      ]
     },
     "execution_count": 264,
     "metadata": {},
     "output_type": "execute_result"
    }
   ],
   "source": [
    "full_window(df['articleInfo'][0], tokenizer, model)"
   ]
  },
  {
   "cell_type": "code",
   "execution_count": 262,
   "id": "7e76b856",
   "metadata": {},
   "outputs": [
    {
     "data": {
      "text/plain": [
       "2    196\n",
       "1     40\n",
       "0     31\n",
       "Name: sentiment, dtype: int64"
      ]
     },
     "execution_count": 262,
     "metadata": {},
     "output_type": "execute_result"
    }
   ],
   "source": [
    "df['sentiment'].value_counts()"
   ]
  }
 ],
 "metadata": {
  "kernelspec": {
   "display_name": "Python 3 (ipykernel)",
   "language": "python",
   "name": "python3"
  },
  "language_info": {
   "codemirror_mode": {
    "name": "ipython",
    "version": 3
   },
   "file_extension": ".py",
   "mimetype": "text/x-python",
   "name": "python",
   "nbconvert_exporter": "python",
   "pygments_lexer": "ipython3",
   "version": "3.10.8"
  }
 },
 "nbformat": 4,
 "nbformat_minor": 5
}
